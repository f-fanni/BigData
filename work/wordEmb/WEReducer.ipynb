{
 "cells": [
  {
   "cell_type": "code",
   "execution_count": 1,
   "metadata": {},
   "outputs": [],
   "source": [
    "import pickle\n",
    "import numpy as np\n",
    "import pandas as pd\n",
    "\n",
    "with open(\"allWords\",'rb') as f:\n",
    "    megaset = pickle.load(f)"
   ]
  },
  {
   "cell_type": "code",
   "execution_count": null,
   "metadata": {},
   "outputs": [],
   "source": [
    "filenames = [\n",
    "    '../../dataset/wordembeddings/embeddings_snap_s128_e15.txt',\n",
    "    '../../dataset/wordembeddings/embeddings_snap_s128_e30.txt',\n",
    "    '../../dataset/wordembeddings/embeddings_snap_s128_e50.txt',\n",
    "    '../../dataset/wordembeddings/embeddings_snap_s256_e15.txt',\n",
    "    '../../dataset/wordembeddings/embeddings_snap_s256_e30.txt',\n",
    "    '../../dataset/wordembeddings/embeddings_snap_s256_e50.txt',\n",
    "    '../../dataset/wordembeddings/embeddings_snap_s512_e15.txt',\n",
    "    '../../dataset/wordembeddings/embeddings_snap_s512_e30.txt',\n",
    "    '../../dataset/wordembeddings/embeddings_snap_s512_e50.txt']\n",
    "\n",
    "for filename in filenames:\n",
    "    we = {row[0] : np.asarray(row[1:]) for _, row in pd.read_csv(filename, skiprows=1, delim_whitespace=True, encoding='latin').iterrows()}\n",
    "\n",
    "    with open(f'{filename}_m','w') as f:\n",
    "        for el in megaset:\n",
    "            try:\n",
    "                emb = we[el]\n",
    "                f.write(f'{el}')\n",
    "                for v in emb:\n",
    "                    f.write(f' {v}')\n",
    "                f.write('\\n')\n",
    "            except:\n",
    "                pass"
   ]
  },
  {
   "cell_type": "code",
   "execution_count": null,
   "metadata": {},
   "outputs": [],
   "source": [
    "filename = \"../../dataset/wordembeddings/embeddings_snap_s512_e15.txt\"\n",
    "\n",
    "we = {row[0] : np.asarray(row[1:]) for _, row in pd.read_csv(filename, skiprows=1, delim_whitespace=True, encoding='latin').iterrows()}\n",
    "\n",
    "with open(f'{filename}_m','w') as f:\n",
    "    for el in megaset:\n",
    "        try:\n",
    "            emb = we[el]\n",
    "            f.write(f'{el}')\n",
    "            for v in emb:\n",
    "                f.write(f' {v}')\n",
    "            f.write('\\n')\n",
    "        except:\n",
    "            pass"
   ]
  }
 ],
 "metadata": {
  "kernelspec": {
   "display_name": "Python 3",
   "language": "python",
   "name": "python3"
  },
  "language_info": {
   "codemirror_mode": {
    "name": "ipython",
    "version": 3
   },
   "file_extension": ".py",
   "mimetype": "text/x-python",
   "name": "python",
   "nbconvert_exporter": "python",
   "pygments_lexer": "ipython3",
   "version": "3.6.8"
  }
 },
 "nbformat": 4,
 "nbformat_minor": 2
}
