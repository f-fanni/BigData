{
 "cells": [
  {
   "cell_type": "code",
   "execution_count": 26,
   "metadata": {},
   "outputs": [],
   "source": [
    "from pyspark.sql import SparkSession\n",
    "from pyspark.sql.functions import concat, lit, udf\n",
    "from pyspark.sql.types import *\n",
    "from pyspark.ml.feature import Tokenizer\n",
    "import string\n",
    "import re\n",
    "from pyspark.ml import Pipeline\n",
    "from pyspark.ml.classification import *\n",
    "from pyspark.ml.feature import HashingTF, Tokenizer, IDF, PCA\n",
    "from pyspark.ml.tuning import *\n",
    "from pyspark.ml.evaluation import BinaryClassificationEvaluator, MulticlassClassificationEvaluator\n",
    "import pickle\n",
    "\n",
    "def getSpark():\n",
    "    return SparkSession.builder.master(\"local[8]\").getOrCreate()\n",
    "\n",
    "index = 1\n",
    "\n",
    "spark = getSpark()\n",
    "####Raw\n",
    "df = spark.read.load(f'publisherRaw{index}/')\n",
    "df = df.withColumn('label', df._hyperpartisan.cast('integer'))\n",
    "testSet = spark.read.load(f'articleRaw{index}/')\n",
    "testSet = testSet.withColumn('label', testSet._hyperpartisan.cast('integer'))"
   ]
  },
  {
   "cell_type": "code",
   "execution_count": null,
   "metadata": {},
   "outputs": [],
   "source": [
    "ev = MulticlassClassificationEvaluator(metricName='accuracy')\n",
    "crossval = CrossValidator(estimator=Pipeline(stages=[LogisticRegression(regParam=0.1, maxIter=20)]),\n",
    "                          estimatorParamMaps=ParamGridBuilder().build(),\n",
    "                          evaluator=ev,\n",
    "                          numFolds=10, seed=42)\n",
    "model = crossval.fit(testSet)\n",
    "ev.evaluate(model.transform(df))"
   ]
  },
  {
   "cell_type": "code",
   "execution_count": 36,
   "metadata": {},
   "outputs": [
    {
     "data": {
      "text/plain": [
       "[]"
      ]
     },
     "execution_count": 36,
     "metadata": {},
     "output_type": "execute_result"
    }
   ],
   "source": [
    "testSet.dropna().rdd.filter(lambda x: x.features is None).collect()\n"
   ]
  }
 ],
 "metadata": {
  "kernelspec": {
   "display_name": "Python 3",
   "language": "python",
   "name": "python3"
  },
  "language_info": {
   "codemirror_mode": {
    "name": "ipython",
    "version": 3
   },
   "file_extension": ".py",
   "mimetype": "text/x-python",
   "name": "python",
   "nbconvert_exporter": "python",
   "pygments_lexer": "ipython3",
   "version": "3.6.8"
  }
 },
 "nbformat": 4,
 "nbformat_minor": 2
}
