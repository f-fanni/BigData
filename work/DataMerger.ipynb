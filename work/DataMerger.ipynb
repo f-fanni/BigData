{
 "cells": [
  {
   "cell_type": "code",
   "execution_count": 1,
   "metadata": {},
   "outputs": [],
   "source": [
    "from pyspark.sql import SparkSession\n",
    "from pyspark.sql.functions import concat, lit, udf\n",
    "from pyspark.sql.types import *\n",
    "from pyspark.ml.feature import Tokenizer\n",
    "import string\n",
    "import re\n",
    "\n",
    "spark = SparkSession.builder.getOrCreate()"
   ]
  },
  {
   "cell_type": "code",
   "execution_count": 20,
   "metadata": {},
   "outputs": [],
   "source": [
    "def saveMergedPublishers():\n",
    "    dft = spark.read.load('../dataset/tokened/articles-training-bypublisher/')\n",
    "    dfv = spark.read.load('../dataset/tokened/articles-validation-bypublisher/')\n",
    "    mergedPublishers = dft.union(dfv)\n",
    "\n",
    "    truthSchema = StructType([ \\\n",
    "            StructField(\"_id\", IntegerType(), False), \\\n",
    "            StructField(\"_hyperpartisan\", BooleanType(), False), \\\n",
    "            StructField(\"_labeled-by\", StringType(), False)])\n",
    "\n",
    "    tdft = spark.read \\\n",
    "            .format('com.databricks.spark.xml') \\\n",
    "            .options(rowTag='article') \\\n",
    "            .load('../dataset/ground-truth-training-bypublisher-20181122.xml', \\\n",
    "                  schema=truthSchema).dropna()\n",
    "\n",
    "    tdfv = spark.read \\\n",
    "            .format('com.databricks.spark.xml') \\\n",
    "            .options(rowTag='article') \\\n",
    "            .load('../dataset/ground-truth-validation-bypublisher-20181122.xml', \\\n",
    "                  schema=truthSchema).dropna()\n",
    "\n",
    "    mergedTruth = tdft.union(tdfv)\n",
    "    merged = mergedPublishers.join(mergedTruth, on='_id', how='inner')\n",
    "    merged.write.save('../dataset/merged/publisher', format='parquet', mode=\"error\")"
   ]
  },
  {
   "cell_type": "code",
   "execution_count": 21,
   "metadata": {},
   "outputs": [],
   "source": [
    "def saveMergedArticles():\n",
    "    df = spark.read.load('../dataset/tokened/articles-training-byarticle/')\n",
    "\n",
    "    truthSchema = StructType([ \\\n",
    "            StructField(\"_id\", IntegerType(), False), \\\n",
    "            StructField(\"_hyperpartisan\", BooleanType(), False), \\\n",
    "            StructField(\"_labeled-by\", StringType(), False)])\n",
    "\n",
    "    tdf = spark.read \\\n",
    "            .format('com.databricks.spark.xml') \\\n",
    "            .options(rowTag='article') \\\n",
    "            .load('../dataset/ground-truth-training-byarticle-20181122.xml', \\\n",
    "                  schema=truthSchema).dropna()\n",
    "\n",
    "    merged = df.join(tdf, on='_id', how='inner')\n",
    "    merged.write.save('../dataset/merged/article', format='parquet', mode=\"error\")"
   ]
  },
  {
   "cell_type": "code",
   "execution_count": 2,
   "metadata": {},
   "outputs": [],
   "source": [
    "def saveMergedPublisherTestAndValidation():\n",
    "    dft = spark.read.load('../dataset/tokened/articles-training-bypublisher/')\n",
    "    dfv = spark.read.load('../dataset/tokened/articles-validation-bypublisher/')\n",
    "\n",
    "    truthSchema = StructType([ \\\n",
    "            StructField(\"_id\", IntegerType(), False), \\\n",
    "            StructField(\"_hyperpartisan\", BooleanType(), False), \\\n",
    "            StructField(\"_labeled-by\", StringType(), False)])\n",
    "\n",
    "    tdft = spark.read \\\n",
    "            .format('com.databricks.spark.xml') \\\n",
    "            .options(rowTag='article') \\\n",
    "            .load('../dataset/ground-truth-training-bypublisher-20181122.xml', \\\n",
    "                  schema=truthSchema).dropna()\n",
    "\n",
    "    tdfv = spark.read \\\n",
    "            .format('com.databricks.spark.xml') \\\n",
    "            .options(rowTag='article') \\\n",
    "            .load('../dataset/ground-truth-validation-bypublisher-20181122.xml', \\\n",
    "                  schema=truthSchema).dropna()\n",
    "\n",
    "    merged = dft.join(tdft, on='_id', how='inner')\n",
    "    merged.write.save('../dataset/merged/publisherTest', format='parquet', mode=\"error\") \n",
    "    merged = dfv.join(tdfv, on='_id', how='inner')\n",
    "    merged.write.save('../dataset/merged/publisherValidation', format='parquet', mode=\"error\")"
   ]
  },
  {
   "cell_type": "code",
   "execution_count": 22,
   "metadata": {},
   "outputs": [],
   "source": [
    "def saveMergedEverything():\n",
    "    dfp = spark.read.load('../dataset/merged/publisher/')\n",
    "    dfa = spark.read.load('../dataset/merged/article/')\n",
    "    merged = dfp.union(dfa)\n",
    "    merged.write.save('../dataset/merged/everything', format='parquet', mode=\"error\")"
   ]
  },
  {
   "cell_type": "code",
   "execution_count": 23,
   "metadata": {},
   "outputs": [],
   "source": [
    "saveMergedPublishers()\n",
    "saveMergedArticles()\n",
    "saveMergedPublisherTestAndValidation()\n",
    "saveMergedEverything()"
   ]
  }
 ],
 "metadata": {
  "kernelspec": {
   "display_name": "Python 3",
   "language": "python",
   "name": "python3"
  },
  "language_info": {
   "codemirror_mode": {
    "name": "ipython",
    "version": 3
   },
   "file_extension": ".py",
   "mimetype": "text/x-python",
   "name": "python",
   "nbconvert_exporter": "python",
   "pygments_lexer": "ipython3",
   "version": "3.6.8"
  }
 },
 "nbformat": 4,
 "nbformat_minor": 2
}
