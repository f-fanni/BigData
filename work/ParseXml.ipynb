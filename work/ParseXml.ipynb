{
 "cells": [
  {
   "cell_type": "code",
   "execution_count": 38,
   "metadata": {},
   "outputs": [],
   "source": [
    "from pyspark.sql import SparkSession\n",
    "from pyspark.sql.functions import concat, lit, udf\n",
    "from pyspark.sql.types import *\n",
    "from pyspark.ml.feature import Tokenizer\n",
    "import string\n",
    "import re\n",
    "\n",
    "spark = SparkSession.builder.getOrCreate()"
   ]
  },
  {
   "cell_type": "code",
   "execution_count": 2,
   "metadata": {},
   "outputs": [],
   "source": [
    "def getDataFrame(filename):\n",
    "    customSchema = StructType([ \\\n",
    "        StructField(\"_id\", IntegerType(), False), \\\n",
    "        StructField(\"_published-at\", DateType(), True), \\\n",
    "        StructField(\"_title\", StringType(), True), \\\n",
    "        StructField(\"content\", StringType(), False)])\n",
    "\n",
    "    df = spark.read \\\n",
    "        .format('com.databricks.spark.xml') \\\n",
    "        .options(rowTag='article') \\\n",
    "        .load(filename, schema = customSchema)\n",
    "    \n",
    "    return df"
   ]
  },
  {
   "cell_type": "code",
   "execution_count": 15,
   "metadata": {},
   "outputs": [],
   "source": [
    "def mergeTitleContent(dataframe):\n",
    "    return dataframe.select(\"_id\", concat(dataframe['_title'], lit(' '), dataframe['content'])\\\n",
    "                    .alias('text'))\\\n",
    "                    .dropna()"
   ]
  },
  {
   "cell_type": "code",
   "execution_count": 50,
   "metadata": {},
   "outputs": [],
   "source": [
    "regex = re.compile('[^0-9a-zA-Z]+')\n",
    "def cleanWords(x):\n",
    "    _id = x._id\n",
    "    words = [w for w in x.words if w != '' and any([ch.isalpha() for ch in w]) ]\n",
    "    ret_words = []\n",
    "    for word in words:\n",
    "        if word == 'u.s.' or word == 'f.b.i': #frequent and maybe relevant in news\n",
    "            ret_words.append(word)\n",
    "            break\n",
    "        splitted = regex.split(word)\n",
    "        ret_words.extend([w for w in splitted if len(w)>2])\n",
    "    return (_id, ret_words)"
   ]
  },
  {
   "cell_type": "code",
   "execution_count": 51,
   "metadata": {},
   "outputs": [],
   "source": [
    "def textTokenize(dataframe):\n",
    "    tokenizer = Tokenizer(inputCol=\"text\", outputCol=\"words\")\n",
    "    tokened = tokenizer.transform(dataframe).rdd\n",
    "    processed = tokened.map(cleanWords)\n",
    "    return spark.createDataFrame(processed,StructType([ \\\n",
    "        StructField(\"_id\",IntegerType(),False), \\\n",
    "        StructField(\"words\",ArrayType(StringType(),True),False)]))"
   ]
  },
  {
   "cell_type": "code",
   "execution_count": 62,
   "metadata": {},
   "outputs": [],
   "source": [
    "articles = getDataFrame(\"../dataset/wellformed/articles-training-byarticle.xml\")\n",
    "articlesTexts = mergeTitleContent(articles)\n",
    "articlesWords = textTokenize(articlesTexts)\n",
    "articlesWords.write.save('../dataset/tokened/articles-training-byarticle', format='parquet', mode=\"error\")"
   ]
  }
 ],
 "metadata": {
  "kernelspec": {
   "display_name": "Python 3",
   "language": "python",
   "name": "python3"
  },
  "language_info": {
   "codemirror_mode": {
    "name": "ipython",
    "version": 3
   },
   "file_extension": ".py",
   "mimetype": "text/x-python",
   "name": "python",
   "nbconvert_exporter": "python",
   "pygments_lexer": "ipython3",
   "version": "3.6.8"
  }
 },
 "nbformat": 4,
 "nbformat_minor": 2
}
